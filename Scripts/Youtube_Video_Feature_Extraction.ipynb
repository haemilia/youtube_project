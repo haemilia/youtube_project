{
  "cells": [
    {
      "cell_type": "code",
      "execution_count": null,
      "metadata": {
        "colab": {
          "base_uri": "https://localhost:8080/"
        },
        "id": "H8BNAqLYdiRQ",
        "outputId": "b9df0f02-70c3-4278-c5f8-9e23c6e2f44d"
      },
      "outputs": [],
      "source": [
        "# !git clone https://github.com/haemilia/youtube_project.git"
      ]
    },
    {
      "cell_type": "code",
      "execution_count": null,
      "metadata": {
        "id": "3ehlIsHk0s55"
      },
      "outputs": [],
      "source": [
        "# import sys\n",
        "# sys.path.append(\"/content/youtube_project/Scripts/\")"
      ]
    },
    {
      "cell_type": "code",
      "execution_count": null,
      "metadata": {
        "colab": {
          "base_uri": "https://localhost:8080/"
        },
        "id": "qCulS69R0wy5",
        "outputId": "6fc387ad-7fec-4e23-cce9-5f12802906f9"
      },
      "outputs": [],
      "source": [
        "# from google.colab import drive\n",
        "# drive.mount('/content/drive')"
      ]
    },
    {
      "cell_type": "code",
      "execution_count": null,
      "metadata": {
        "id": "uBngptoP060I"
      },
      "outputs": [],
      "source": [
        "from pathlib import Path\n",
        "import useful as use\n",
        "import pandas as pd\n",
        "import numpy as np\n",
        "priv = use.get_priv()\n",
        "global DATA_PATH\n",
        "DATA_PATH = Path(priv[\"DATA_PATH\"])\n",
        "hf_token = priv[\"HF_API_KEY\"]\n",
        "features_dir = DATA_PATH / \"dataset\"\n",
        "\n",
        "popular_df_raw = pd.read_pickle(DATA_PATH / \"temp/raw/popular_raw.pkl\")\n",
        "unpopular_df_raw = pd.read_pickle(DATA_PATH/\"temp/raw/unpopular_raw.pkl\")"
      ]
    },
    {
      "cell_type": "markdown",
      "metadata": {
        "id": "jFvaMySQ6u7z"
      },
      "source": [
        "# Video Feature Extraction"
      ]
    },
    {
      "cell_type": "code",
      "execution_count": null,
      "metadata": {
        "colab": {
          "base_uri": "https://localhost:8080/"
        },
        "id": "sdIch__A4mUK",
        "outputId": "a6e16f07-6359-40db-e985-05ba128b657c"
      },
      "outputs": [],
      "source": [
        "# !pip install yt-dlp\n",
        "# !pip install opencv-python"
      ]
    },
    {
      "cell_type": "code",
      "execution_count": null,
      "metadata": {
        "colab": {
          "base_uri": "https://localhost:8080/"
        },
        "id": "JTpS3k10tdlt",
        "outputId": "ee38c709-187b-4763-ae3a-567508c69e78"
      },
      "outputs": [],
      "source": [
        "from demo import download_video_with_id\n",
        "import feature_extraction as fe\n",
        "import pickle\n",
        "\n",
        "# Your DataFrame of video IDs\n",
        "popular_id = popular_df_raw[\"id\"]\n",
        "\n",
        "# Prepare model and preprocessor\n",
        "device = fe.set_device()\n",
        "vid_processor = fe.load_video_processor(hf_token)\n",
        "vid_model = fe.load_video_model(device, hf_token)\n",
        "\n",
        "video_features_dict = {}\n",
        "# Go through popular videos\n",
        "total = len(popular_id)\n",
        "for i, video_id in enumerate(popular_id):\n",
        "    print(f\"{i+1} / {total}\")\n",
        "    # download video in temp\n",
        "    temp_dir = Path(\"/content/temp\")\n",
        "    use.create_directory_if_not_exists(temp_dir)\n",
        "    vid_path = download_video_with_id(video_id, temp_dir)\n",
        "\n",
        "    # extract features\n",
        "    print(\"Extracting feature vectors...\")\n",
        "    video_features = fe.feature_from_video(vid_path,\n",
        "                                           processor=vid_processor,\n",
        "                                           model=vid_model,\n",
        "                                           device=device,\n",
        "                                        num_of_frames=8)\n",
        "    # store features\n",
        "    print(\"Storing feature vectors...\")\n",
        "    video_features_dict[video_id] = video_features\n",
        "    with open(features_dir/\"popular_video_vectors.pkl\",'wb') as fw:\n",
        "        pickle.dump(video_features_dict, fw)\n",
        "\n",
        "    # delete video from temp\n",
        "    if vid_path is None:\n",
        "        vid_path = temp_dir / f\"{video_id}.mp4\"\n",
        "    vid_path.unlink(missing_ok=True)\n",
        "    print(f\"Deleted {video_id}.mp4\")\n"
      ]
    },
    {
      "cell_type": "code",
      "execution_count": null,
      "metadata": {
        "colab": {
          "base_uri": "https://localhost:8080/",
          "height": 1000
        },
        "id": "qR0VuzSMA0pz",
        "outputId": "172d825a-83d6-49ab-9301-fa55893184ea"
      },
      "outputs": [],
      "source": [
        "from demo import download_video_with_id\n",
        "import feature_extraction as fe\n",
        "import pickle\n",
        "\n",
        "# Your DataFrame of video IDs\n",
        "unpopular_id = unpopular_df_raw[\"id\"]\n",
        "\n",
        "# Prepare model and preprocessor\n",
        "device = fe.set_device()\n",
        "vid_processor = fe.load_video_processor(hf_token)\n",
        "vid_model = fe.load_video_model(device, hf_token)\n",
        "\n",
        "if (features_dir/\"unpopular_video_vectors.pkl\").exists():\n",
        "    with open(features_dir/\"unpopular_video_vectors.pkl\",'rb') as fr:\n",
        "        video_features_dict = pickle.load(fr)\n",
        "else:\n",
        "    video_features_dict = {}\n",
        "# Go through popular videos\n",
        "total = len(unpopular_id)\n",
        "if (DATA_PATH / \"temp/progress.txt\").exists():\n",
        "    with open(DATA_PATH / \"temp/progress.txt\", \"r\") as fr:\n",
        "        start_from = int(fr.read())\n",
        "for i, video_id in enumerate(unpopular_id[start_from:]):\n",
        "    print(f\"{i+1} / {total}\")\n",
        "    # download video in temp\n",
        "    temp_dir = Path(\"/content/temp\")\n",
        "    use.create_directory_if_not_exists(temp_dir)\n",
        "    vid_path = download_video_with_id(video_id, temp_dir)\n",
        "\n",
        "    # extract features\n",
        "    print(\"Extracting feature vectors...\")\n",
        "    video_features = fe.feature_from_video(vid_path,\n",
        "                                           processor=vid_processor,\n",
        "                                           model=vid_model,\n",
        "                                           device=device,\n",
        "                                        num_of_frames=8)\n",
        "    # store features\n",
        "    print(\"Storing feature vectors...\")\n",
        "    video_features_dict[video_id] = video_features\n",
        "    with open(features_dir/\"unpopular_video_vectors.pkl\",'wb') as fw:\n",
        "        pickle.dump(video_features_dict, fw)\n",
        "    with open(DATA_PATH / \"temp/colab_progress.txt\", \"w\") as fw:\n",
        "        fw.write(i)\n",
        "\n",
        "    # delete video from temp\n",
        "    if vid_path is None:\n",
        "        vid_path = temp_dir / f\"{video_id}.mp4\"\n",
        "    vid_path.unlink(missing_ok=True)\n",
        "    print(f\"Deleted {video_id}.mp4\")"
      ]
    }
  ],
  "metadata": {
    "accelerator": "GPU",
    "colab": {
      "collapsed_sections": [
        "98SrOvjc6oCM"
      ],
      "gpuType": "T4",
      "provenance": []
    },
    "kernelspec": {
      "display_name": "Python (proj01)",
      "language": "python",
      "name": "proj01"
    },
    "language_info": {
      "codemirror_mode": {
        "name": "ipython",
        "version": 3
      },
      "file_extension": ".py",
      "mimetype": "text/x-python",
      "name": "python",
      "nbconvert_exporter": "python",
      "pygments_lexer": "ipython3",
      "version": "3.12.3"
    }
  },
  "nbformat": 4,
  "nbformat_minor": 0
}
